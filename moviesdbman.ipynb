{
 "cells": [
  {
   "cell_type": "code",
   "execution_count": 3,
   "id": "f1038499",
   "metadata": {
    "scrolled": true
   },
   "outputs": [],
   "source": [
    "import csv\n",
    "\n",
    "from cs50 import SQL\n",
    "\n",
    "open(\"moviesdb.db\",\"w\").close()\n",
    "\n",
    "db = SQL(\"sqlite:///moviesdb.db\")\n",
    "\n",
    "db.execute(\"CREATE TABLE movies (mid INTEGER, title TEXT, PRIMARY KEY(mid))\")\n",
    "\n",
    "db.execute(\"CREATE TABLE movie_genres (mg_id INTEGER, genre_id INTEGER, PRIMARY KEY(genre_id), FOREIGN KEY(mg_id) REFERENCES movies(mid))\")\n",
    "\n",
    "db.execute(\"CREATE TABLE genres (movies_id INTEGER, genre TEXT, PRIMARY KEY(movies_id), FOREIGN KEY(movies_id) REFERENCES movie_genres(genre_id))\")\n",
    "\n",
    "\n",
    "\n",
    "with open(\"gross movies.csv\",\"r\") as file:\n",
    "    reader = csv.DictReader(file)\n",
    "\n",
    "    for row in reader:\n",
    "        title = row[\"Film\"].strip().capitalize()\n",
    "\n",
    "        mid = db.execute(\"INSERT INTO movies (title) VALUES(?)\", title)\n",
    "\n",
    "        for genre in row[\"Genre\"].split(\", \"):\n",
    "            genre = genre.strip().capitalize()\n",
    "            genres_id = db.execute(\"INSERT INTO movie_genres(mg_id) VALUES((SELECT mid FROM movies WHERE title =?))\",title)\n",
    "            db.execute(\"INSERT INTO genres (movies_id, genre) VALUES ((SELECT mg_id FROM movie_genres WHERE mg_id=?),?)\" , genres_id, genre)"
   ]
  }
 ],
 "metadata": {
  "kernelspec": {
   "display_name": "Python 3 (ipykernel)",
   "language": "python",
   "name": "python3"
  },
  "language_info": {
   "codemirror_mode": {
    "name": "ipython",
    "version": 3
   },
   "file_extension": ".py",
   "mimetype": "text/x-python",
   "name": "python",
   "nbconvert_exporter": "python",
   "pygments_lexer": "ipython3",
   "version": "3.10.5"
  },
  "vscode": {
   "interpreter": {
    "hash": "dcc4a5071f0aedb61712a299efd0d15e8a4cf6be055325e491209d585ba1bee6"
   }
  }
 },
 "nbformat": 4,
 "nbformat_minor": 5
}
